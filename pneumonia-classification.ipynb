{
 "cells": [
  {
   "cell_type": "code",
   "execution_count": 1,
   "id": "a4dd3821",
   "metadata": {
    "_cell_guid": "b1076dfc-b9ad-4769-8c92-a6c4dae69d19",
    "_uuid": "8f2839f25d086af736a60e9eeb907d3b93b6e0e5",
    "execution": {
     "iopub.execute_input": "2024-02-23T13:28:13.579156Z",
     "iopub.status.busy": "2024-02-23T13:28:13.578706Z",
     "iopub.status.idle": "2024-02-23T13:28:32.642217Z",
     "shell.execute_reply": "2024-02-23T13:28:32.640334Z"
    },
    "papermill": {
     "duration": 19.074878,
     "end_time": "2024-02-23T13:28:32.645614",
     "exception": false,
     "start_time": "2024-02-23T13:28:13.570736",
     "status": "completed"
    },
    "tags": []
   },
   "outputs": [
    {
     "name": "stderr",
     "output_type": "stream",
     "text": [
      "2024-02-23 13:28:17.450850: E external/local_xla/xla/stream_executor/cuda/cuda_dnn.cc:9261] Unable to register cuDNN factory: Attempting to register factory for plugin cuDNN when one has already been registered\n",
      "2024-02-23 13:28:17.451016: E external/local_xla/xla/stream_executor/cuda/cuda_fft.cc:607] Unable to register cuFFT factory: Attempting to register factory for plugin cuFFT when one has already been registered\n",
      "2024-02-23 13:28:17.630168: E external/local_xla/xla/stream_executor/cuda/cuda_blas.cc:1515] Unable to register cuBLAS factory: Attempting to register factory for plugin cuBLAS when one has already been registered\n"
     ]
    }
   ],
   "source": [
    "# This Python 3 environment comes with many helpful analytics libraries installed\n",
    "# It is defined by the kaggle/python Docker image: https://github.com/kaggle/docker-python\n",
    "# For example, here's several helpful packages to load\n",
    "\n",
    "import numpy as np # linear algebra\n",
    "import pandas as pd # data processing, CSV file I/O (e.g. pd.read_csv)\n",
    "import cv2\n",
    "import os\n",
    "import tensorflow as tf\n",
    "from tensorflow.keras import layers, models\n",
    "import matplotlib.pyplot as plt\n",
    "# Input data files are available in the read-only \"../input/\" directory\n",
    "# For example, running this (by clicking run or pressing Shift+Enter) will list all files under the input director\n",
    "\n",
    "# You can write up to 20GB to the current directory (/kaggle/working/) that gets preserved as output when you create a version using \"Save & Run All\" \n",
    "# You can also write temporary files to /kaggle/temp/, but they won't be saved outside of the current session"
   ]
  },
  {
   "cell_type": "markdown",
   "id": "6b8912cc",
   "metadata": {
    "papermill": {
     "duration": 0.005218,
     "end_time": "2024-02-23T13:28:32.656864",
     "exception": false,
     "start_time": "2024-02-23T13:28:32.651646",
     "status": "completed"
    },
    "tags": []
   },
   "source": [
    "## Context"
   ]
  },
  {
   "cell_type": "markdown",
   "id": "de3e236d",
   "metadata": {
    "papermill": {
     "duration": 0.005186,
     "end_time": "2024-02-23T13:28:32.667510",
     "exception": false,
     "start_time": "2024-02-23T13:28:32.662324",
     "status": "completed"
    },
    "tags": []
   },
   "source": [
    "La pneumonie est une maladie du a une infections des poumons. les agents pathogène comme virus, les bactéries, des champignons ou d'autres micro-organismes en sont les princiaples cause. Elle se caractérise par un remplessement des sacs d'aires des poumons appelé alvéoles, qui peuvent se remplir de liquide, rendant ainsi la respiration difficile.\n",
    "D'après l'OMS, la pneumonie est la première cause infectieuse de mortalité chez l’enfant à l’échelle mondiale. En 2019, 740 180 enfants de moins de 5 ans sont décédés des suites d’une pneumonie, soit 14 % de tous les décès survenus dans cette tranche d’âge ; chez les enfants de 1 à 5 ans, la pneumonie est responsable de 22 % des décès. "
   ]
  },
  {
   "cell_type": "markdown",
   "id": "3c705700",
   "metadata": {
    "papermill": {
     "duration": 0.005054,
     "end_time": "2024-02-23T13:28:32.678025",
     "exception": false,
     "start_time": "2024-02-23T13:28:32.672971",
     "status": "completed"
    },
    "tags": []
   },
   "source": [
    "Les fichiers de ces images sont sur kaggle, nous allons les accédés a travers leurs chement. Les fichiers sont organiser en trois dossier, qui sont test, train, val respectivement pour les données de test, d'entrainement et de validation de notre modèle. Nous allons commencer dans un premier temps á définir des variables correspondants a ces dossiers, puis après construire les dataframe correspondant en transfomant les fichiers images en données numerique.\n",
    "Dans chaque dossier, se trouve deux sous-dossier, correspondant aux images normal et ceux ayant la pneunomie. On va parcouris les fichiers de chaque sous dossier, puis transformer le chifier image en tableau numerique a attribué une colonne qui peux prendre la valeur 0 ou 1 selon si l'image est normal ou anormal. Etand données que nous allons effectué cette même operation sur les trois dossier (test, train, et val), ce serait mieux de créer une fonction et la faire appèle en passant en paramètre le dossier correspondant."
   ]
  },
  {
   "cell_type": "code",
   "execution_count": 2,
   "id": "0324b334",
   "metadata": {
    "execution": {
     "iopub.execute_input": "2024-02-23T13:28:32.691442Z",
     "iopub.status.busy": "2024-02-23T13:28:32.690661Z",
     "iopub.status.idle": "2024-02-23T13:30:47.301951Z",
     "shell.execute_reply": "2024-02-23T13:30:47.300006Z"
    },
    "papermill": {
     "duration": 134.621993,
     "end_time": "2024-02-23T13:30:47.305447",
     "exception": false,
     "start_time": "2024-02-23T13:28:32.683454",
     "status": "completed"
    },
    "tags": []
   },
   "outputs": [],
   "source": [
    "test_dir = \"/kaggle/input/chest-xray-pneumonia/chest_xray/chest_xray/test/\"\n",
    "train_dir = \"/kaggle/input/chest-xray-pneumonia/chest_xray/chest_xray/train/\"\n",
    "val_dir = \"/kaggle/input/chest-xray-pneumonia/chest_xray/chest_xray/val/\"\n",
    "def preparation(dossier): \n",
    "        X, y = [], []\n",
    "        for i in [\"NORMAL\", \"PNEUMONIA\"]:\n",
    "            chemin = dossier + i\n",
    "            for file in os.listdir(chemin):\n",
    "                chemin_fichier = os.path.join(chemin, file)\n",
    "                if not chemin_fichier.endswith(\".DS_Store\"):\n",
    "                    image = cv2.imread(chemin_fichier)\n",
    "                    image = cv2.resize(image, (100, 100))\n",
    "                    X.append(np.array(image))\n",
    "                    if i==\"NORMAL\":\n",
    "                        y.append(0)\n",
    "                    else:\n",
    "                        y.append(1)\n",
    "        return np.array(X), np.array(y)\n",
    "X_val, y_val = preparation(val_dir)\n",
    "X_test, y_test = preparation(test_dir)\n",
    "X_train, y_train = preparation(train_dir)"
   ]
  },
  {
   "cell_type": "markdown",
   "id": "f0306f11",
   "metadata": {
    "papermill": {
     "duration": 0.005452,
     "end_time": "2024-02-23T13:30:47.317514",
     "exception": false,
     "start_time": "2024-02-23T13:30:47.312062",
     "status": "completed"
    },
    "tags": []
   },
   "source": [
    "## Modèle utilisé"
   ]
  },
  {
   "cell_type": "markdown",
   "id": "e1de4dd8",
   "metadata": {
    "papermill": {
     "duration": 0.005162,
     "end_time": "2024-02-23T13:30:47.328238",
     "exception": false,
     "start_time": "2024-02-23T13:30:47.323076",
     "status": "completed"
    },
    "tags": []
   },
   "source": [
    "Le model que nous allons utilisé pour détècter la présence ou non de pneumonie sur l'image est le CNN(Convolutionnal Neural Network). C'est un réseaux de neuronnes qui á fait ces preuves en vision par ordinateur dans divers domaines inclus la médecine. Il est le mieux adapté pour notre problème. Le CNN  extrait les caractéristiques de l'objet en question en intégrant la notion faisant appel a une operation mathématique appelé une convolution, il intègre aussi de non linéareté pour capturé les relations non linéaire dans les images, là ou á échoué la pluspart des modèles traditionnelle de machine learning.\n",
    "La mise en place de notre modèle est fait en utilisant la technique sequentielle de trensorflow. Pour rappel il y a deux manière de mètre en place les modèles du deep learning sur le plateforme de trensorflow, la manière sequentielle et fonctionnelle.\n",
    "Nous utilisont un modèle d'une seul couche, on commence par ajouté la couche convolutionnaire avec un filtre de dimension (3,3) et pour fonction d'activation la fonction 'relu'. il faut aussi noté que notre image a trois cannaux correspondant au different cannaux de RGB, raison pour laquelle la dimension de notre image est de (100, 100, 3 )\n",
    "Nous ajoutons ensuite, le Pooling consistant á reduire la dimension spatiale du resultat obtenue dans la couche convolutionnaire. Nous avons utilisé le Pooling maximum avec une fenêtre de (2, 2). \n",
    "Le resultat est enseuite vertorisé,puis classifier en utilisant la fonction sigmoid, retournant la probabilité que le l'image appartient a une classe ou l'autre.\n",
    "La fonction d'optimisation 'adam' est utilisé avec cross entropy binaire commme la fonction de perte pour compiler le modèle"
   ]
  },
  {
   "cell_type": "code",
   "execution_count": 3,
   "id": "8052790a",
   "metadata": {
    "execution": {
     "iopub.execute_input": "2024-02-23T13:30:47.341901Z",
     "iopub.status.busy": "2024-02-23T13:30:47.341139Z",
     "iopub.status.idle": "2024-02-23T13:30:47.898491Z",
     "shell.execute_reply": "2024-02-23T13:30:47.896923Z"
    },
    "papermill": {
     "duration": 0.568006,
     "end_time": "2024-02-23T13:30:47.901758",
     "exception": false,
     "start_time": "2024-02-23T13:30:47.333752",
     "status": "completed"
    },
    "tags": []
   },
   "outputs": [],
   "source": [
    "model = models.Sequential()\n",
    "model.add(layers.Conv2D(32, (3, 3), activation='relu', input_shape=(100, 100, 3)))\n",
    "model.add(layers.MaxPooling2D((2, 2)))\n",
    "model.add(layers.Flatten())\n",
    "model.add(layers.Dense(64, activation='relu'))\n",
    "model.add(layers.Dense(1, activation='sigmoid'))\n",
    "model.compile(optimizer='adam', loss='binary_crossentropy', metrics=['accuracy'])"
   ]
  },
  {
   "cell_type": "code",
   "execution_count": 4,
   "id": "acabf93a",
   "metadata": {
    "execution": {
     "iopub.execute_input": "2024-02-23T13:30:47.914789Z",
     "iopub.status.busy": "2024-02-23T13:30:47.914310Z",
     "iopub.status.idle": "2024-02-23T13:38:24.188087Z",
     "shell.execute_reply": "2024-02-23T13:38:24.186926Z"
    },
    "papermill": {
     "duration": 456.283634,
     "end_time": "2024-02-23T13:38:24.190849",
     "exception": false,
     "start_time": "2024-02-23T13:30:47.907215",
     "status": "completed"
    },
    "tags": []
   },
   "outputs": [
    {
     "name": "stdout",
     "output_type": "stream",
     "text": [
      "Epoch 1/20\n",
      "163/163 [==============================] - 25s 147ms/step - loss: 56.4652 - accuracy: 0.8591 - val_loss: 5.3427 - val_accuracy: 0.6250\n",
      "Epoch 2/20\n",
      "163/163 [==============================] - 23s 141ms/step - loss: 0.2842 - accuracy: 0.9563 - val_loss: 0.0057 - val_accuracy: 1.0000\n",
      "Epoch 3/20\n",
      "163/163 [==============================] - 23s 138ms/step - loss: 0.2267 - accuracy: 0.9586 - val_loss: 0.5251 - val_accuracy: 0.9375\n",
      "Epoch 4/20\n",
      "163/163 [==============================] - 22s 136ms/step - loss: 0.1770 - accuracy: 0.9707 - val_loss: 0.2175 - val_accuracy: 0.9375\n",
      "Epoch 5/20\n",
      "163/163 [==============================] - 23s 139ms/step - loss: 0.2358 - accuracy: 0.9647 - val_loss: 1.4660 - val_accuracy: 0.8125\n",
      "Epoch 6/20\n",
      "163/163 [==============================] - 23s 139ms/step - loss: 0.0398 - accuracy: 0.9912 - val_loss: 1.4188 - val_accuracy: 0.8125\n",
      "Epoch 7/20\n",
      "163/163 [==============================] - 22s 137ms/step - loss: 0.0499 - accuracy: 0.9912 - val_loss: 1.1192 - val_accuracy: 0.8750\n",
      "Epoch 8/20\n",
      "163/163 [==============================] - 23s 140ms/step - loss: 0.0356 - accuracy: 0.9908 - val_loss: 2.8790 - val_accuracy: 0.8125\n",
      "Epoch 9/20\n",
      "163/163 [==============================] - 23s 139ms/step - loss: 0.0161 - accuracy: 0.9950 - val_loss: 0.3475 - val_accuracy: 0.9375\n",
      "Epoch 10/20\n",
      "163/163 [==============================] - 22s 136ms/step - loss: 0.0022 - accuracy: 0.9992 - val_loss: 1.0618 - val_accuracy: 0.8125\n",
      "Epoch 11/20\n",
      "163/163 [==============================] - 23s 140ms/step - loss: 3.5883e-04 - accuracy: 0.9998 - val_loss: 0.5695 - val_accuracy: 0.8750\n",
      "Epoch 12/20\n",
      "163/163 [==============================] - 23s 142ms/step - loss: 5.8978e-05 - accuracy: 1.0000 - val_loss: 0.6485 - val_accuracy: 0.8750\n",
      "Epoch 13/20\n",
      "163/163 [==============================] - 23s 140ms/step - loss: 4.1745e-05 - accuracy: 1.0000 - val_loss: 0.6927 - val_accuracy: 0.8125\n",
      "Epoch 14/20\n",
      "163/163 [==============================] - 22s 137ms/step - loss: 3.4719e-05 - accuracy: 1.0000 - val_loss: 0.7078 - val_accuracy: 0.8125\n",
      "Epoch 15/20\n",
      "163/163 [==============================] - 23s 140ms/step - loss: 3.0016e-05 - accuracy: 1.0000 - val_loss: 0.6388 - val_accuracy: 0.8750\n",
      "Epoch 16/20\n",
      "163/163 [==============================] - 23s 141ms/step - loss: 2.6772e-05 - accuracy: 1.0000 - val_loss: 0.6748 - val_accuracy: 0.8750\n",
      "Epoch 17/20\n",
      "163/163 [==============================] - 22s 138ms/step - loss: 2.4927e-05 - accuracy: 1.0000 - val_loss: 0.6751 - val_accuracy: 0.8750\n",
      "Epoch 18/20\n",
      "163/163 [==============================] - 23s 139ms/step - loss: 2.1841e-05 - accuracy: 1.0000 - val_loss: 0.7320 - val_accuracy: 0.8125\n",
      "Epoch 19/20\n",
      "163/163 [==============================] - 23s 138ms/step - loss: 1.9865e-05 - accuracy: 1.0000 - val_loss: 0.6966 - val_accuracy: 0.8750\n",
      "Epoch 20/20\n",
      "163/163 [==============================] - 23s 141ms/step - loss: 1.8261e-05 - accuracy: 1.0000 - val_loss: 0.7122 - val_accuracy: 0.8750\n"
     ]
    }
   ],
   "source": [
    "history = model.fit(X_train, y_train, epochs=20, validation_data=(X_val, y_val))"
   ]
  },
  {
   "cell_type": "markdown",
   "id": "656e371c",
   "metadata": {
    "papermill": {
     "duration": 0.323844,
     "end_time": "2024-02-23T13:38:24.840681",
     "exception": false,
     "start_time": "2024-02-23T13:38:24.516837",
     "status": "completed"
    },
    "tags": []
   },
   "source": [
    "Le modèle etant implementer, nous allons maintenant faire un test pour voir ci ca fonctionne bien sur des nouvelles observations"
   ]
  },
  {
   "cell_type": "markdown",
   "id": "8775b074",
   "metadata": {
    "papermill": {
     "duration": 0.40713,
     "end_time": "2024-02-23T13:38:25.571711",
     "exception": false,
     "start_time": "2024-02-23T13:38:25.164581",
     "status": "completed"
    },
    "tags": []
   },
   "source": [
    "## Test du modèle"
   ]
  },
  {
   "cell_type": "code",
   "execution_count": 5,
   "id": "659a61f8",
   "metadata": {
    "execution": {
     "iopub.execute_input": "2024-02-23T13:38:26.221921Z",
     "iopub.status.busy": "2024-02-23T13:38:26.220957Z",
     "iopub.status.idle": "2024-02-23T13:38:26.560337Z",
     "shell.execute_reply": "2024-02-23T13:38:26.559132Z"
    },
    "papermill": {
     "duration": 0.669218,
     "end_time": "2024-02-23T13:38:26.562988",
     "exception": false,
     "start_time": "2024-02-23T13:38:25.893770",
     "status": "completed"
    },
    "tags": []
   },
   "outputs": [
    {
     "data": {
      "text/plain": [
       "<matplotlib.legend.Legend at 0x7d4500046950>"
      ]
     },
     "execution_count": 5,
     "metadata": {},
     "output_type": "execute_result"
    },
    {
     "data": {
      "image/png": "[encoded data removed]",
      "text/plain": [
       "<Figure size 640x480 with 1 Axes>"
      ]
     },
     "metadata": {},
     "output_type": "display_data"
    }
   ],
   "source": [
    "plt.plot(history.history['accuracy'], label='accuracy')\n",
    "plt.plot(history.history['val_accuracy'], label = 'val_accuracy')\n",
    "plt.xlabel('Epoch')\n",
    "plt.ylabel('Accuracy')\n",
    "plt.legend(loc='lower right')"
   ]
  },
  {
   "cell_type": "code",
   "execution_count": 6,
   "id": "09a6fb8e",
   "metadata": {
    "execution": {
     "iopub.execute_input": "2024-02-23T13:38:27.218613Z",
     "iopub.status.busy": "2024-02-23T13:38:27.218130Z",
     "iopub.status.idle": "2024-02-23T13:38:28.137053Z",
     "shell.execute_reply": "2024-02-23T13:38:28.135525Z"
    },
    "papermill": {
     "duration": 1.253688,
     "end_time": "2024-02-23T13:38:28.140200",
     "exception": false,
     "start_time": "2024-02-23T13:38:26.886512",
     "status": "completed"
    },
    "tags": []
   },
   "outputs": [
    {
     "name": "stdout",
     "output_type": "stream",
     "text": [
      "20/20 - 1s - loss: 6.0200 - accuracy: 0.7420 - 838ms/epoch - 42ms/step\n"
     ]
    }
   ],
   "source": [
    "test_loss, test_acc = model.evaluate(X_test,  y_test, verbose=2)"
   ]
  },
  {
   "cell_type": "markdown",
   "id": "5635248a",
   "metadata": {
    "papermill": {
     "duration": 0.359084,
     "end_time": "2024-02-23T13:38:28.827116",
     "exception": false,
     "start_time": "2024-02-23T13:38:28.468032",
     "status": "completed"
    },
    "tags": []
   },
   "source": [
    "## Resultat"
   ]
  },
  {
   "cell_type": "markdown",
   "id": "ce6e4e2e",
   "metadata": {
    "papermill": {
     "duration": 0.324918,
     "end_time": "2024-02-23T13:38:29.475537",
     "exception": false,
     "start_time": "2024-02-23T13:38:29.150619",
     "status": "completed"
    },
    "tags": []
   },
   "source": [
    "Avec une seul couche, le model a une occurence de 73%, ce qui n'est pas mal mais c'est insuffisant. Il faut encore améliorer le model pour augmenter son occurence afin d'eviter les risques de detection faussent."
   ]
  }
 ],
 "metadata": {
  "kaggle": {
   "accelerator": "none",
   "dataSources": [
    {
     "datasetId": 17810,
     "sourceId": 23812,
     "sourceType": "datasetVersion"
    }
   ],
   "dockerImageVersionId": 30646,
   "isGpuEnabled": false,
   "isInternetEnabled": true,
   "language": "python",
   "sourceType": "notebook"
  },
  "kernelspec": {
   "display_name": "Python 3",
   "language": "python",
   "name": "python3"
  },
  "language_info": {
   "codemirror_mode": {
    "name": "ipython",
    "version": 3
   },
   "file_extension": ".py",
   "mimetype": "text/x-python",
   "name": "python",
   "nbconvert_exporter": "python",
   "pygments_lexer": "ipython3",
   "version": "3.10.13"
  },
  "papermill": {
   "default_parameters": {},
   "duration": 622.805544,
   "end_time": "2024-02-23T13:38:32.992907",
   "environment_variables": {},
   "exception": null,
   "input_path": "__notebook__.ipynb",
   "output_path": "__notebook__.ipynb",
   "parameters": {},
   "start_time": "2024-02-23T13:28:10.187363",
   "version": "2.5.0"
  }
 },
 "nbformat": 4,
 "nbformat_minor": 5
}

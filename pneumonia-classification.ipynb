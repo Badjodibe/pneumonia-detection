{
 "cells": [
  {
   "cell_type": "code",
   "execution_count": 1,
   "id": "e5a9449a",
   "metadata": {
    "_cell_guid": "b1076dfc-b9ad-4769-8c92-a6c4dae69d19",
    "_uuid": "8f2839f25d086af736a60e9eeb907d3b93b6e0e5",
    "execution": {
     "iopub.execute_input": "2024-02-22T19:57:36.511866Z",
     "iopub.status.busy": "2024-02-22T19:57:36.511398Z",
     "iopub.status.idle": "2024-02-22T19:57:55.811684Z",
     "shell.execute_reply": "2024-02-22T19:57:55.810368Z"
    },
    "papermill": {
     "duration": 19.310172,
     "end_time": "2024-02-22T19:57:55.814801",
     "exception": false,
     "start_time": "2024-02-22T19:57:36.504629",
     "status": "completed"
    },
    "tags": []
   },
   "outputs": [
    {
     "name": "stderr",
     "output_type": "stream",
     "text": [
      "2024-02-22 19:57:40.426895: E external/local_xla/xla/stream_executor/cuda/cuda_dnn.cc:9261] Unable to register cuDNN factory: Attempting to register factory for plugin cuDNN when one has already been registered\n",
      "2024-02-22 19:57:40.427072: E external/local_xla/xla/stream_executor/cuda/cuda_fft.cc:607] Unable to register cuFFT factory: Attempting to register factory for plugin cuFFT when one has already been registered\n",
      "2024-02-22 19:57:40.606918: E external/local_xla/xla/stream_executor/cuda/cuda_blas.cc:1515] Unable to register cuBLAS factory: Attempting to register factory for plugin cuBLAS when one has already been registered\n"
     ]
    }
   ],
   "source": [
    "# This Python 3 environment comes with many helpful analytics libraries installed\n",
    "# It is defined by the kaggle/python Docker image: https://github.com/kaggle/docker-python\n",
    "# For example, here's several helpful packages to load\n",
    "\n",
    "import numpy as np # linear algebra\n",
    "import pandas as pd # data processing, CSV file I/O (e.g. pd.read_csv)\n",
    "import cv2\n",
    "import os\n",
    "import tensorflow as tf\n",
    "from tensorflow.keras import layers, models\n",
    "# Input data files are available in the read-only \"../input/\" directory\n",
    "# For example, running this (by clicking run or pressing Shift+Enter) will list all files under the input director\n",
    "\n",
    "# You can write up to 20GB to the current directory (/kaggle/working/) that gets preserved as output when you create a version using \"Save & Run All\" \n",
    "# You can also write temporary files to /kaggle/temp/, but they won't be saved outside of the current session"
   ]
  },
  {
   "cell_type": "markdown",
   "id": "a9502adc",
   "metadata": {
    "papermill": {
     "duration": 0.003772,
     "end_time": "2024-02-22T19:57:55.822990",
     "exception": false,
     "start_time": "2024-02-22T19:57:55.819218",
     "status": "completed"
    },
    "tags": []
   },
   "source": [
    "## Introduction"
   ]
  },
  {
   "cell_type": "markdown",
   "id": "89d8202c",
   "metadata": {
    "papermill": {
     "duration": 0.003661,
     "end_time": "2024-02-22T19:57:55.830632",
     "exception": false,
     "start_time": "2024-02-22T19:57:55.826971",
     "status": "completed"
    },
    "tags": []
   },
   "source": [
    "La pneumonie est une maladie du a une infections des poumons. les agents pathogène comme virus, les bactéries, des champignons ou d'autres micro-organismes en sont les princiaples cause. Elle se caractérise par un remplessement des sacs d'aires des poumons appelé alvéoles, qui peuvent se remplir de liquide, rendant ainsi la respiration difficile.\n",
    "D'après l'OMS, la pneumonie est la première cause infectieuse de mortalité chez l’enfant à l’échelle mondiale. En 2019, 740 180 enfants de moins de 5 ans sont décédés des suites d’une pneumonie, soit 14 % de tous les décès survenus dans cette tranche d’âge ; chez les enfants de 1 à 5 ans, la pneumonie est responsable de 22 % des décès. "
   ]
  },
  {
   "cell_type": "markdown",
   "id": "fe861532",
   "metadata": {
    "papermill": {
     "duration": 0.003716,
     "end_time": "2024-02-22T19:57:55.838248",
     "exception": false,
     "start_time": "2024-02-22T19:57:55.834532",
     "status": "completed"
    },
    "tags": []
   },
   "source": [
    "Les fichiers de ces images sont sur kaggle, nous allons les accédés a travers leurs chement. Les fichiers sont organiser en trois dossier, qui sont test, train, val respectivement pour les données de test, d'entrainement et de validation de notre modèle. Nous allons commencer dans un premier temps á définir des variables correspondants a ces dossiers, puis après construire les dataframe correspondant en transfomant les fichiers images en données numerique.\n",
    "Dans chaque dossier, se trouve deux sous-dossier, correspondant aux images normal et ceux ayant la pneunomie. On va parcouris les fichiers de chaque sous dossier, puis transformer le chifier image en tableau numerique a attribué une colonne qui peux prendre la valeur 0 ou 1 selon si l'image est normal ou anormal. Etand données que nous allons effectué cette même operation sur les trois dossier (test, train, et val), ce serait mieux de créer une fonction et la faire appèle en passant en paramètre le dossier correspondant."
   ]
  },
  {
   "cell_type": "code",
   "execution_count": 2,
   "id": "57233ff0",
   "metadata": {
    "execution": {
     "iopub.execute_input": "2024-02-22T19:57:55.849038Z",
     "iopub.status.busy": "2024-02-22T19:57:55.848114Z",
     "iopub.status.idle": "2024-02-22T20:00:02.771974Z",
     "shell.execute_reply": "2024-02-22T20:00:02.770262Z"
    },
    "papermill": {
     "duration": 126.933242,
     "end_time": "2024-02-22T20:00:02.775363",
     "exception": false,
     "start_time": "2024-02-22T19:57:55.842121",
     "status": "completed"
    },
    "tags": []
   },
   "outputs": [],
   "source": [
    "test_dir = \"/kaggle/input/chest-xray-pneumonia/chest_xray/chest_xray/test/\"\n",
    "train_dir = \"/kaggle/input/chest-xray-pneumonia/chest_xray/chest_xray/train/\"\n",
    "val_dir = \"/kaggle/input/chest-xray-pneumonia/chest_xray/chest_xray/val/\"\n",
    "def preparation(dossier): \n",
    "        X, y = [], []\n",
    "        for i in [\"NORMAL\", \"PNEUMONIA\"]:\n",
    "            chemin = dossier + i\n",
    "            for file in os.listdir(chemin):\n",
    "                chemin_fichier = os.path.join(chemin, file)\n",
    "                if not chemin_fichier.endswith(\".DS_Store\"):\n",
    "                    image = cv2.imread(chemin_fichier)\n",
    "                    image = cv2.resize(image, (100, 100))\n",
    "                    X.append(np.array(image))\n",
    "                    if i==\"NORMAL\":\n",
    "                        y.append(0)\n",
    "                    else:\n",
    "                        y.append(1)\n",
    "        return np.array(X), np.array(y)\n",
    "X_val, y_val = preparation(val_dir)\n",
    "X_test, y_test = preparation(test_dir)\n",
    "X_train, y_train = preparation(train_dir)"
   ]
  },
  {
   "cell_type": "markdown",
   "id": "86477087",
   "metadata": {
    "papermill": {
     "duration": 0.003869,
     "end_time": "2024-02-22T20:00:02.783738",
     "exception": false,
     "start_time": "2024-02-22T20:00:02.779869",
     "status": "completed"
    },
    "tags": []
   },
   "source": [
    "## Modèle utilisé"
   ]
  },
  {
   "cell_type": "markdown",
   "id": "0690974f",
   "metadata": {
    "papermill": {
     "duration": 0.003935,
     "end_time": "2024-02-22T20:00:02.792335",
     "exception": false,
     "start_time": "2024-02-22T20:00:02.788400",
     "status": "completed"
    },
    "tags": []
   },
   "source": [
    "Le model,qui est utilisé pour détècté la presence ou non de pneumonie est le CNN. C'est un réseau de neuronne qui fait ces preuve en vision par ordinateur dans divers domains. Il est le mieux adapté pour notre problème. L'objectif de modèle CNN est d'extraire les caractéristique de l'object en question en intégrant la notion de non linéareté, la ou á échoué la pluspart des modèles traditionnelle de machine learning.\n",
    "La mise en place de notre modèle est fait en utilisant la technique sequentielle de trensorflow. Pour rappel il y a deux manière de mètre en place les modèles sur le plateforme de trensorflow, la manière sequentielle et fonctionnelle.\n",
    "Nous utilisont un modèle d'un seul couche, on commence par ajouté la couche convolutionnaire avec un filtre de dimension (3,3) et pour fonction d'activation la fonction 'relu'. il faut aussi noté que notre image a trois cannaux correspondant au different cannaux de RGB, raison pour laquelle la dimension de notre image est de (100, 100, 3 )\n",
    "Nous ajoutons ensuite, le Pooling consistant á reduire la dimension spatiale du resultat obtenue dans la couche convolutionnaire. Nous avons utilisé le Pooling maximum avec une fenêtre de (2, 2). \n",
    "Le resultat est enseuite vertorisé,"
   ]
  },
  {
   "cell_type": "code",
   "execution_count": 3,
   "id": "935f9621",
   "metadata": {
    "execution": {
     "iopub.execute_input": "2024-02-22T20:00:02.803223Z",
     "iopub.status.busy": "2024-02-22T20:00:02.802656Z",
     "iopub.status.idle": "2024-02-22T20:00:03.370310Z",
     "shell.execute_reply": "2024-02-22T20:00:03.368910Z"
    },
    "papermill": {
     "duration": 0.577283,
     "end_time": "2024-02-22T20:00:03.373824",
     "exception": false,
     "start_time": "2024-02-22T20:00:02.796541",
     "status": "completed"
    },
    "tags": []
   },
   "outputs": [],
   "source": [
    "model = models.Sequential()\n",
    "model.add(layers.Conv2D(32, (3, 3), activation='relu', input_shape=(100, 100, 3)))\n",
    "model.add(layers.MaxPooling2D((2, 2)))\n",
    "model.add(layers.Flatten())\n",
    "model.add(layers.Dense(64, activation='relu'))\n",
    "model.add(layers.Dense(1, activation='sigmoid'))\n",
    "model.compile(optimizer='adam', loss='binary_crossentropy', metrics=['accuracy'])"
   ]
  },
  {
   "cell_type": "code",
   "execution_count": 4,
   "id": "201c4328",
   "metadata": {
    "execution": {
     "iopub.execute_input": "2024-02-22T20:00:03.385510Z",
     "iopub.status.busy": "2024-02-22T20:00:03.385089Z",
     "iopub.status.idle": "2024-02-22T20:04:26.578486Z",
     "shell.execute_reply": "2024-02-22T20:04:26.577534Z"
    },
    "papermill": {
     "duration": 263.202643,
     "end_time": "2024-02-22T20:04:26.581565",
     "exception": false,
     "start_time": "2024-02-22T20:00:03.378922",
     "status": "completed"
    },
    "tags": []
   },
   "outputs": [
    {
     "name": "stdout",
     "output_type": "stream",
     "text": [
      "Epoch 1/10\n",
      "163/163 [==============================] - 24s 140ms/step - loss: 31.5249 - accuracy: 0.8779\n",
      "Epoch 2/10\n",
      "163/163 [==============================] - 23s 140ms/step - loss: 0.9248 - accuracy: 0.9615\n",
      "Epoch 3/10\n",
      "163/163 [==============================] - 23s 140ms/step - loss: 0.2954 - accuracy: 0.9774\n",
      "Epoch 4/10\n",
      "163/163 [==============================] - 23s 140ms/step - loss: 0.1143 - accuracy: 0.9875\n",
      "Epoch 5/10\n",
      "163/163 [==============================] - 23s 138ms/step - loss: 0.0647 - accuracy: 0.9921\n",
      "Epoch 6/10\n",
      "163/163 [==============================] - 23s 141ms/step - loss: 0.0588 - accuracy: 0.9923\n",
      "Epoch 7/10\n",
      "163/163 [==============================] - 23s 140ms/step - loss: 0.1254 - accuracy: 0.9873\n",
      "Epoch 8/10\n",
      "163/163 [==============================] - 22s 136ms/step - loss: 0.1853 - accuracy: 0.9864\n",
      "Epoch 9/10\n",
      "163/163 [==============================] - 22s 136ms/step - loss: 0.1030 - accuracy: 0.9902\n",
      "Epoch 10/10\n",
      "163/163 [==============================] - 23s 139ms/step - loss: 0.0945 - accuracy: 0.9908\n"
     ]
    }
   ],
   "source": [
    "history = model.fit(X_train, y_train, epochs=10)"
   ]
  },
  {
   "cell_type": "code",
   "execution_count": null,
   "id": "51e95fd4",
   "metadata": {
    "papermill": {
     "duration": 0.157477,
     "end_time": "2024-02-22T20:04:26.972056",
     "exception": false,
     "start_time": "2024-02-22T20:04:26.814579",
     "status": "completed"
    },
    "tags": []
   },
   "outputs": [],
   "source": []
  }
 ],
 "metadata": {
  "kaggle": {
   "accelerator": "none",
   "dataSources": [
    {
     "datasetId": 17810,
     "sourceId": 23812,
     "sourceType": "datasetVersion"
    }
   ],
   "dockerImageVersionId": 30646,
   "isGpuEnabled": false,
   "isInternetEnabled": true,
   "language": "python",
   "sourceType": "notebook"
  },
  "kernelspec": {
   "display_name": "Python 3",
   "language": "python",
   "name": "python3"
  },
  "language_info": {
   "codemirror_mode": {
    "name": "ipython",
    "version": 3
   },
   "file_extension": ".py",
   "mimetype": "text/x-python",
   "name": "python",
   "nbconvert_exporter": "python",
   "pygments_lexer": "ipython3",
   "version": "3.10.13"
  },
  "papermill": {
   "default_parameters": {},
   "duration": 416.619193,
   "end_time": "2024-02-22T20:04:29.569014",
   "environment_variables": {},
   "exception": null,
   "input_path": "__notebook__.ipynb",
   "output_path": "__notebook__.ipynb",
   "parameters": {},
   "start_time": "2024-02-22T19:57:32.949821",
   "version": "2.5.0"
  }
 },
 "nbformat": 4,
 "nbformat_minor": 5
}
